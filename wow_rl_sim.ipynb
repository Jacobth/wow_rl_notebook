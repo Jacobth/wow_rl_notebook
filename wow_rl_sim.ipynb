{
 "cells": [
  {
   "cell_type": "markdown",
   "metadata": {},
   "source": [
    "# Using DQN to cross a bridge in World of Warcraft\n",
    "\n",
    "## The bridge\n",
    "The bridge can be found at coordinates X:1669.62, Y:-3731.47, Z:148.3 in the zone Howling Fjord. The bridge have no rails thus the agent can easily fall off. The goal is to cross the bridge without falling down with the help of DQN. A trained agent should be able to cross. The bridge is also slightly tilted from the north.\n",
    "\n",
    "For this task, Keras will be used for modeling the network.\n",
    "\n",
    " <table width=\"100%\" border=\"0\">\n",
    "      <tr>\n",
    "      <td><img src=\"images/bridge.png\"/></td>\n",
    "      <td><img src=\"images/bridge2.png\"/></td>\n",
    "      </tr>\n",
    "    </table>\n"
   ]
  },
  {
   "cell_type": "code",
   "execution_count": 1,
   "metadata": {},
   "outputs": [
    {
     "name": "stderr",
     "output_type": "stream",
     "text": [
      "Using TensorFlow backend.\n"
     ]
    }
   ],
   "source": [
    "from keras.models import Sequential, load_model\n",
    "from keras.optimizers import Adam, RMSprop\n",
    "from keras.layers import Dense, Flatten, Dropout\n",
    "from keras.callbacks import TensorBoard, EarlyStopping\n",
    "from keras.initializers import RandomUniform\n",
    "\n",
    "from collections import deque\n",
    "\n",
    "import random\n",
    "import numpy as np\n",
    "import matplotlib.pyplot as plt\n",
    "\n",
    "from shapely.geometry import Point\n",
    "from shapely.geometry.polygon import Polygon\n",
    "\n",
    "from ctypes import cdll, POINTER, c_float, c_int\n",
    "from random import randint\n",
    "from time import sleep\n",
    "\n",
    "from IPython.display import clear_output"
   ]
  },
  {
   "cell_type": "markdown",
   "metadata": {},
   "source": [
    "## Measured constants\n",
    "The first step was to measure the bridge as a polygon concealed within four points. These four points are initalized below and were measured from the World of Warcraft client. The inital start position x and y is between the eastern and western starting point.\n",
    "\n",
    "The variables k and m are the linear equation between the end points on the other side of the bridge. This linear equation is useful to determine if the agent passed the end of the bridge or not.\n",
    "\n",
    "The step size is equal to half the width of the bridge. This will determine how many units the agent will move in every step. The bridge is contained within a polygon that will use the raycasting algorithm to decide if the agent is in or outside the polygon aka the bridge.\n",
    "\n",
    "The image visualize the polygon that surrounds the bridge in the simulation.\n",
    "\n",
    "<img src=\"images/poly.png\"/>"
   ]
  },
  {
   "cell_type": "code",
   "execution_count": 2,
   "metadata": {
    "scrolled": true
   },
   "outputs": [],
   "source": [
    "bridge_start_west = np.array([-3728.34, 1668.16])\n",
    "bridge_start_east = np.array([-3734.89, 1668.64])\n",
    "\n",
    "bridge_end_west = np.array([-3735.31, 1580.07])\n",
    "bridge_end_east = np.array([-3741.63, 1580.53])\n",
    "\n",
    "init_pos = np.sum([bridge_start_west, bridge_start_east], axis=0) / 2\n",
    "\n",
    "k = (bridge_end_west[1] - bridge_end_east[1]) / (bridge_end_west[0] - bridge_end_east[0])\n",
    "m = bridge_end_west[1] -(k * bridge_end_west[0])\n",
    "\n",
    "step_size = np.abs((bridge_start_west[0] - bridge_start_east[0]) / 2)\n",
    "\n",
    "current_angle = 0\n",
    "\n",
    "polygon = Polygon([bridge_start_west, bridge_start_east, bridge_end_east, bridge_end_west])"
   ]
  },
  {
   "cell_type": "markdown",
   "metadata": {},
   "source": [
    "## Determine goal\n",
    "\n",
    "The goal line can be defined as:\n",
    "\n",
    "\\begin{align}\n",
    "y = kx + m\n",
    "\\end{align}\n",
    "\n",
    "If the agents current y position is less than the goals y, the agent crossed the bridge. The reason why the agent y have to be lesser is beacuse it move in a north to south direction."
   ]
  },
  {
   "cell_type": "code",
   "execution_count": 3,
   "metadata": {},
   "outputs": [],
   "source": [
    "def is_goal(x, y):\n",
    "      \n",
    "    goal_y = (k*x) + m\n",
    "    \n",
    "    return y < goal_y    "
   ]
  },
  {
   "cell_type": "markdown",
   "metadata": {},
   "source": [
    "## Is within bridge\n",
    "This is calculated with the Shapley library that implement the raycasting algorithm."
   ]
  },
  {
   "cell_type": "code",
   "execution_count": 4,
   "metadata": {},
   "outputs": [],
   "source": [
    "def is_within_bridge(x, y):\n",
    "    \n",
    "    point = Point(x, y)\n",
    "    \n",
    "    return polygon.contains(point) "
   ]
  },
  {
   "cell_type": "markdown",
   "metadata": {},
   "source": [
    "## Calculate distance from the right edge\n",
    "\n",
    "To determine the distance to the right edge, the linear equation is calculated for the right sided line. This will be used to later calculate the perpendicular line. The x position in realtion to the edge can then be solved by finding what x is intersection both lines. The euclidean distance can then be used once we have the x and y on the right edge line compared to the agents current position.\n",
    "\n",
    "The first two methods are only used to plot how far the agent reach after each episode."
   ]
  },
  {
   "cell_type": "code",
   "execution_count": 5,
   "metadata": {},
   "outputs": [],
   "source": [
    "def get_start_edge():\n",
    "    \n",
    "    k_s = (bridge_start_west[1] - bridge_start_east[1]) / (bridge_start_west[0] - bridge_start_east[0])\n",
    "    m_s = bridge_start_west[1] -(k_s * bridge_start_west[0])\n",
    "    \n",
    "    return k_s, m_s\n",
    "    \n",
    "k_s, m_s = get_start_edge()"
   ]
  },
  {
   "cell_type": "code",
   "execution_count": 6,
   "metadata": {},
   "outputs": [],
   "source": [
    "def get_start_edge_dist(x, y):\n",
    "    \n",
    "    k_p = -1 / k_s\n",
    "    m_p = y - (k_p * x);\n",
    "\n",
    "    x_new = (m_p - m_s) / (k_s - k_p);\n",
    "    y_new = (k_s*x_new) + m_s;\n",
    "\n",
    "    a = (x_new - x);\n",
    "    b = (y_new - y);\n",
    "\n",
    "    d = np.sqrt(a**2 + b**2);\n",
    "    \n",
    "    return d"
   ]
  },
  {
   "cell_type": "code",
   "execution_count": 7,
   "metadata": {},
   "outputs": [],
   "source": [
    "def get_right_edge():\n",
    "    \n",
    "    k_r = (bridge_start_west[1] - bridge_end_west[1]) / (bridge_start_west[0] - bridge_end_west[0])\n",
    "    m_r = bridge_end_west[1] -(k_r * bridge_end_west[0])\n",
    "    \n",
    "    return k_r, m_r\n",
    "    \n",
    "k_r, m_r = get_right_edge()"
   ]
  },
  {
   "cell_type": "code",
   "execution_count": 8,
   "metadata": {},
   "outputs": [],
   "source": [
    "def get_edge_dist(x, y):\n",
    "    \n",
    "    k_p = -1 / k_r\n",
    "    m_p = y - (k_p * x);\n",
    "\n",
    "    x_new = (m_p - m_r) / (k_r - k_p);\n",
    "    y_new = (k_r*x_new) + m_r;\n",
    "\n",
    "    a = (x_new - x);\n",
    "    b = (y_new - y);\n",
    "\n",
    "    d = np.sqrt(a**2 + b**2);\n",
    "    \n",
    "    return d"
   ]
  },
  {
   "cell_type": "markdown",
   "metadata": {},
   "source": [
    "## Avaliable actions\n",
    "The agent have four avaliable actions that follows:\n",
    "\n",
    "<ol>\n",
    "    <li>Adjust angle $+\\frac{\\pi}{8}$ radians</li>\n",
    "    <li>Adjust angle $+\\frac{\\pi}{4}$ radians</li>\n",
    "    <li>Adjust angle $-\\frac{\\pi}{8}$ radians</li>\n",
    "    <li>Adjust angle $-\\frac{\\pi}{4}$ radians</li>\n",
    "</ol>\n"
   ]
  },
  {
   "cell_type": "code",
   "execution_count": 9,
   "metadata": {},
   "outputs": [],
   "source": [
    "def get_new_angle(action):  \n",
    "    \n",
    "    v = np.pi / 8\n",
    "    \n",
    "    return{\n",
    "        0 : current_angle + v,\n",
    "        1 : current_angle + v*2,\n",
    "        2 : current_angle - v,\n",
    "        3 : current_angle - v*2,\n",
    "    }[action]"
   ]
  },
  {
   "cell_type": "markdown",
   "metadata": {},
   "source": [
    "## New position from predicted angle\n",
    "\n",
    "Once the new angle is predicted, the new position can be determined from the current position. The figure below visualizes how the triangle can look before a step where the current angle is equal to $\\alpha$. Since $sin(\\alpha) = \\frac{a}{c}$ and $cos(\\alpha) = \\frac{b}{c}$, $a$ and $b$ can be calculated from this. The new position $x'$ and $y'$ ten evaluates to: $x' = x + a$, $y' = y + b$.\n",
    "\n",
    "<img src=\"images/tri.png\"/>"
   ]
  },
  {
   "cell_type": "code",
   "execution_count": 10,
   "metadata": {},
   "outputs": [],
   "source": [
    "def do_action(action, x, y):\n",
    "        \n",
    "    v = get_new_angle(action)\n",
    "    current_angle = v\n",
    "    \n",
    "    a = step_size * np.sin(v);\n",
    "    b = step_size * np.cos(v);\n",
    "\n",
    "    x_new = x - a;\n",
    "    y_new = y - b;\n",
    "    \n",
    "    return x_new, y_new"
   ]
  },
  {
   "cell_type": "markdown",
   "metadata": {},
   "source": [
    "## Rewards\n",
    "These are the rewards that will determine how the agent perform. "
   ]
  },
  {
   "cell_type": "code",
   "execution_count": 11,
   "metadata": {},
   "outputs": [],
   "source": [
    "terminate_reward = 100\n",
    "step_reward = -1\n",
    "stuck_reward = -100\n",
    "\n",
    "state_size = 2\n",
    "action_size = 4"
   ]
  },
  {
   "cell_type": "markdown",
   "metadata": {},
   "source": [
    "## Step\n",
    "The state contain two variables, the curent angle and the distance to the right edge in realtion to the agent. "
   ]
  },
  {
   "cell_type": "code",
   "execution_count": 12,
   "metadata": {},
   "outputs": [],
   "source": [
    "def step(action, p_x, p_y):\n",
    "    \n",
    "    tmp_player_x = p_x\n",
    "    tmp_player_y = p_y\n",
    "    \n",
    "    new_pos = do_action(action, p_x, p_y)\n",
    "    \n",
    "    p_x = new_pos[0]\n",
    "    p_y = new_pos[1]\n",
    "    \n",
    "    reward = 0\n",
    "    done = False\n",
    "    \n",
    "    if is_goal(p_x, p_y):\n",
    "        done = True\n",
    "        reward = terminate_reward\n",
    "    \n",
    "    elif is_within_bridge(p_x, p_y):\n",
    "        reward = step_reward\n",
    "            \n",
    "    else:\n",
    "        p_x = tmp_player_x\n",
    "        p_y = tmp_player_y\n",
    "        reward = stuck_reward;\n",
    "        done = True\n",
    "            \n",
    "    state = np.reshape([current_angle, get_edge_dist(p_x, p_y)], [1, state_size])\n",
    "        \n",
    "    return state, reward, done, p_x, p_y\n",
    "    "
   ]
  },
  {
   "cell_type": "code",
   "execution_count": 13,
   "metadata": {},
   "outputs": [],
   "source": [
    "def reset():\n",
    "    \n",
    "    p_x = init_pos[0]\n",
    "    p_y = init_pos[1]\n",
    "    \n",
    "    current_angle = 0\n",
    "    \n",
    "    state = np.reshape([current_angle, get_edge_dist(p_x, p_y)], [1, state_size])\n",
    "    \n",
    "    return state, p_x, p_y\n",
    "    "
   ]
  },
  {
   "cell_type": "markdown",
   "metadata": {},
   "source": [
    "## The DQN\n",
    "\n",
    "The agent class contain the logic for the DQN. The netowrk consist of two hidden layers with 40 neurons each. The neural net is visualized below.\n",
    "\n",
    "<img src=\"images/net.png\"/>"
   ]
  },
  {
   "cell_type": "code",
   "execution_count": 14,
   "metadata": {},
   "outputs": [],
   "source": [
    "model_path = \"my_model.h5\"\n",
    "\n",
    "class Agent:\n",
    "    def __init__(self, state_size, action_size, discount, eps, eps_decay, eps_min, l_rate, decay_linear):\n",
    "        self.path = model_path\n",
    "        self.state_size = state_size       \n",
    "        self.action_size = action_size\n",
    "        self.mem = deque(maxlen=2000)\n",
    "        self.discount = discount\n",
    "        self.eps = eps\n",
    "        self.eps_decay = eps_decay\n",
    "        self.decay_linear = decay_linear\n",
    "        self.eps_min = eps_min\n",
    "        self.l_rate = l_rate\n",
    "        self.model = self.init_model()\n",
    "\n",
    "    def load_model(self):\n",
    "        return load_model(self.path)\n",
    "        \n",
    "    def save_model(self):\n",
    "        self.model.save(self.path)\n",
    "\n",
    "    def init_model(self):\n",
    "        model = Sequential()\n",
    "        model.add(Dense(40, input_dim=self.state_size, activation='relu'))\n",
    "        model.add(Dense(40, activation='relu'))\n",
    "        model.add(Dense(self.action_size, activation='linear'))\n",
    "        model.compile(loss='mse', optimizer=Adam(lr=self.l_rate))\n",
    "\n",
    "        return model\n",
    "\n",
    "    def action(self, state):\n",
    "\n",
    "        if np.random.rand() <= self.eps:\n",
    "            return random.randrange(self.action_size)   \n",
    "        \n",
    "        actions = self.model.predict(state)\n",
    "        \n",
    "        return np.argmax(actions[0])\n",
    "    \n",
    "    def remember(self, state, action, reward, next_state, terminal):\n",
    "        self.mem.append((state, action, reward, next_state, terminal))\n",
    "\n",
    "    def replay(self, batch_size):\n",
    "        \n",
    "        if len(self.mem) < batch_size:\n",
    "            batch = self.mem\n",
    "        else:\n",
    "            batch = random.sample(self.mem, batch_size)\n",
    "        \n",
    "        for state, action, reward, next_state, terminal in batch:\n",
    "            target = reward\n",
    "\n",
    "            if not terminal:\n",
    "                target += self.discount * np.amax(self.model.predict(next_state)[0])\n",
    "            \n",
    "            target_f = self.model.predict(state)\n",
    "            target_f[0][action] = target\n",
    "        \n",
    "            self.model.fit(state, target_f, epochs=1, verbose=0)\n",
    "        \n",
    "        self.decay()\n",
    "\n",
    "\n",
    "    def decay(self):\n",
    "        if self.eps > self.eps_min:\n",
    "            if self.decay_linear:\n",
    "                self.eps -= self.eps_decay\n",
    "            else:\n",
    "                self.eps *= self.eps_decay\n",
    "            "
   ]
  },
  {
   "cell_type": "code",
   "execution_count": 34,
   "metadata": {},
   "outputs": [
    {
     "name": "stdout",
     "output_type": "stream",
     "text": [
      "episode 1 done, found goal 0 times with and avg step of -1, total goals: 0\n",
      "episode 100 done, found goal 0 times with and avg step of -1, total goals: 0\n",
      "episode 200 done, found goal 0 times with and avg step of -1, total goals: 0\n",
      "episode 300 done, found goal 2 times with and avg step of 32.0, total goals: 2\n",
      "episode 400 done, found goal 1 times with and avg step of 31.0, total goals: 3\n",
      "episode 500 done, found goal 7 times with and avg step of 31.857142857142858, total goals: 10\n",
      "episode 600 done, found goal 10 times with and avg step of 31.8, total goals: 20\n",
      "episode 700 done, found goal 17 times with and avg step of 32.05882352941177, total goals: 37\n",
      "episode 800 done, found goal 28 times with and avg step of 31.535714285714285, total goals: 65\n",
      "episode 900 done, found goal 51 times with and avg step of 30.666666666666668, total goals: 116\n",
      "episode 1000 done, found goal 94 times with and avg step of 31.30851063829787, total goals: 210\n",
      "episode 1100 done, found goal 100 times with and avg step of 30.26, total goals: 310\n",
      "episode 1200 done, found goal 98 times with and avg step of 30.244897959183675, total goals: 408\n",
      "episode 1300 done, found goal 100 times with and avg step of 30.28, total goals: 508\n",
      "episode 1400 done, found goal 100 times with and avg step of 30.73, total goals: 608\n",
      "episode 1500 done, found goal 100 times with and avg step of 30.52, total goals: 708\n",
      "episode 1600 done, found goal 100 times with and avg step of 31.02, total goals: 808\n",
      "episode 1700 done, found goal 100 times with and avg step of 30.0, total goals: 908\n",
      "episode 1800 done, found goal 100 times with and avg step of 30.62, total goals: 1008\n",
      "episode 1900 done, found goal 100 times with and avg step of 31.33, total goals: 1108\n",
      "episode 2000 done, found goal 100 times with and avg step of 31.04, total goals: 1208\n",
      "summary: total goals found: 1208, an avg of 0.604 episodes reached the goal\n"
     ]
    }
   ],
   "source": [
    "agent = Agent(\n",
    "            state_size = state_size, \n",
    "            action_size = action_size, \n",
    "            discount = 0.98, \n",
    "            eps = 1, \n",
    "            eps_decay = 0.001, \n",
    "            eps_min = 0.001, \n",
    "            l_rate = 0.001,\n",
    "            decay_linear = True\n",
    "            )\n",
    "\n",
    "#Train agent\n",
    "episodes = 2000\n",
    "steps = 100\n",
    "\n",
    "print_freq = 100\n",
    "goalCounter = 0\n",
    "goalAvg = -1\n",
    "stepCounter = 0\n",
    "epGoalCounter = 0\n",
    "epGoalAvg = -1\n",
    "epStepCounter = 0\n",
    "\n",
    "total_ep = []\n",
    "total_rewards = []\n",
    "total_distance = []\n",
    "\n",
    "for ep in range(1, episodes + 1):\n",
    "    \n",
    "    state, p_x, p_y = reset()\n",
    "\n",
    "    player_x = p_x\n",
    "    player_y = p_y\n",
    "    \n",
    "    total_reward = 0\n",
    "    \n",
    "    for st in range(1, steps):\n",
    "        \n",
    "        action = agent.action(state)\n",
    "\n",
    "        next_state, reward, done, p_x, p_y = step(action, player_x, player_y)\n",
    "        \n",
    "        total_reward += reward\n",
    "        \n",
    "        player_x = p_x\n",
    "        player_y = p_y\n",
    "        \n",
    "        agent.remember(state, action, reward, next_state, done)\n",
    "\n",
    "        state = next_state\n",
    "\n",
    "        if done:\n",
    "            \n",
    "            if reward > 1:\n",
    "                goalCounter += 1\n",
    "                epGoalCounter += 1            \n",
    "                epStepCounter += st\n",
    "                epGoalAvg = epStepCounter / epGoalCounter\n",
    "            break\n",
    "       \n",
    "    agent.replay(32)\n",
    "        \n",
    "    if ep % print_freq == 0 or ep == 1:\n",
    "        \n",
    "        total_ep.append(ep)\n",
    "        total_rewards.append(total_reward)\n",
    "        total_distance.append(get_start_edge_dist(player_x, player_y))\n",
    "        \n",
    "        print(\"episode {} done, found goal {} times with and avg step of {}, total goals: {}\".format(ep, epGoalCounter, epGoalAvg, goalCounter))\n",
    "        epGoalCounter = 0\n",
    "        epGoalAvg = -1\n",
    "        epStepCounter = 0\n",
    "\n",
    "agent.save_model()\n",
    "print(\"summary: total goals found: {}, an avg of {} episodes reached the goal\".format(goalCounter, goalCounter/episodes))"
   ]
  },
  {
   "cell_type": "code",
   "execution_count": 45,
   "metadata": {},
   "outputs": [
    {
     "data": {
      "image/png": "[encoded data removed]",
      "text/plain": [
       "<Figure size 432x288 with 1 Axes>"
      ]
     },
     "metadata": {},
     "output_type": "display_data"
    }
   ],
   "source": [
    "plt.plot(total_ep, total_rewards)\n",
    "plt.title('Total reward from start')\n",
    "plt.ylabel('Reward')\n",
    "plt.xlabel('Episode')\n",
    "plt.legend(['Reward'], loc='upper left')\n",
    "plt.show()"
   ]
  },
  {
   "cell_type": "code",
   "execution_count": 44,
   "metadata": {},
   "outputs": [
    {
     "data": {
      "image/png": "[encoded data removed]",
      "text/plain": [
       "<Figure size 432x288 with 1 Axes>"
      ]
     },
     "metadata": {},
     "output_type": "display_data"
    }
   ],
   "source": [
    "plt.plot(total_ep, total_distance)\n",
    "plt.title('Distance from start over time')\n",
    "plt.ylabel('Distance')\n",
    "plt.xlabel('Episode')\n",
    "plt.legend(['Distance'], loc='upper left')\n",
    "plt.show()"
   ]
  },
  {
   "cell_type": "markdown",
   "metadata": {},
   "source": [
    "## Testing the trained network in the client\n",
    "The last step is to confirm that the trained network works in the World of Warcraft client. To do this Click to move was used  to walk towards a given x and y. This is an built in function for World of Warcraft. This can be accsed by manipulating memory variables with a language such as C++. The python class ctypes allow for calls to compiled C++ classes. The libenv.so were compiled with MinGW and the source code for this library can be found at: https://github.com/Jacobth/wow_rl_environment."
   ]
  },
  {
   "cell_type": "code",
   "execution_count": 15,
   "metadata": {},
   "outputs": [],
   "source": [
    "lib = cdll.LoadLibrary('libenv.so')\n",
    "\n",
    "class Env(object):\n",
    "    def __init__(self):\n",
    "        self.obj = lib.Env()\n",
    "    \n",
    "    def reset(self, init_x, init_y):\n",
    "        lib.ResetTest.argtypes = [c_float, c_float]\n",
    "        lib.ResetTest(self.obj, init_x, init_y)\n",
    "\n",
    "    def step(self, new_x, new_y):\n",
    "        lib.StepTest.argtypes = [c_float, c_float]\n",
    "        lib.StepTest(self.obj, new_x, new_y)\n",
    "        \n",
    "    def get_pos(self):      \n",
    "        lib.GetPos.restype = POINTER(c_float * 2)\n",
    "        \n",
    "        values = lib.GetPos(self.obj).contents\n",
    "        x = values[0]\n",
    "        y = values[1]\n",
    "        \n",
    "        return x, y"
   ]
  },
  {
   "cell_type": "code",
   "execution_count": 21,
   "metadata": {},
   "outputs": [
    {
     "name": "stdout",
     "output_type": "stream",
     "text": [
      "completed with reward: 69 and 32 steps.\n"
     ]
    }
   ],
   "source": [
    "def test_model() :\n",
    "    \n",
    "    env = Env()\n",
    "\n",
    "    model = load_model(model_path)\n",
    "    \n",
    "    state, p_x, p_y = reset()\n",
    "    env.reset(c_float(p_x), c_float(p_y))\n",
    "    \n",
    "    pl_x = p_x\n",
    "    pl_y = p_y\n",
    "    \n",
    "    total_reward = 0\n",
    "    total_steps = 0\n",
    "    \n",
    "    while True:\n",
    "    \n",
    "        action = np.argmax(model.predict(state)[0])\n",
    "        next_state, reward, done, p_x, p_y = step(action, pl_x, pl_y)\n",
    "                \n",
    "        env.step(c_float(p_x), c_float(p_y))\n",
    "        \n",
    "        state = next_state\n",
    "        \n",
    "        pl_x = p_x\n",
    "        pl_y = p_y\n",
    "        \n",
    "        total_reward += reward\n",
    "        total_steps += 1\n",
    "        \n",
    "        if done:\n",
    "            print(\"completed with reward: {} and {} steps.\".format(total_reward, total_steps))\n",
    "            break;\n",
    "            \n",
    "test_model()"
   ]
  },
  {
   "cell_type": "markdown",
   "metadata": {},
   "source": [
    "This method can be used to test if the right distance behave correctly in the client."
   ]
  },
  {
   "cell_type": "code",
   "execution_count": 1,
   "metadata": {},
   "outputs": [],
   "source": [
    "def test_dist() :\n",
    "    \n",
    "    env = Env()\n",
    "    \n",
    "    while True:\n",
    "        \n",
    "        x, y = env.get_pos()\n",
    "        \n",
    "        print(get_edge_dist(x, y))\n",
    "        sleep(0.5)\n",
    "        clear_output()\n",
    "        \n",
    "#test_dist() "
   ]
  }
 ],
 "metadata": {
  "kernelspec": {
   "display_name": "Python 3",
   "language": "python",
   "name": "python3"
  },
  "language_info": {
   "codemirror_mode": {
    "name": "ipython",
    "version": 3
   },
   "file_extension": ".py",
   "mimetype": "text/x-python",
   "name": "python",
   "nbconvert_exporter": "python",
   "pygments_lexer": "ipython3",
   "version": "3.5.6"
  }
 },
 "nbformat": 4,
 "nbformat_minor": 2
}
