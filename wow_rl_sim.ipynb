{
 "cells": [
  {
   "cell_type": "code",
   "execution_count": 1,
   "metadata": {},
   "outputs": [
    {
     "name": "stderr",
     "output_type": "stream",
     "text": [
      "Using TensorFlow backend.\n"
     ]
    }
   ],
   "source": [
    "from keras.models import Sequential, load_model\n",
    "from keras.optimizers import Adam, RMSprop\n",
    "from keras.layers import Dense, Flatten, Dropout\n",
    "from keras.callbacks import TensorBoard, EarlyStopping\n",
    "from keras.initializers import RandomUniform\n",
    "\n",
    "from collections import deque\n",
    "\n",
    "import random\n",
    "import numpy as np\n",
    "import matplotlib.pyplot as plt\n",
    "\n",
    "from shapely.geometry import Point\n",
    "from shapely.geometry.polygon import Polygon\n",
    "\n",
    "from ctypes import cdll, POINTER, c_float, c_int, c_bool, c_void_p\n",
    "from random import randint\n",
    "from time import sleep"
   ]
  },
  {
   "cell_type": "code",
   "execution_count": 2,
   "metadata": {
    "scrolled": true
   },
   "outputs": [],
   "source": [
    "bridge_start_west = np.array([-3728.34, 1668.16])\n",
    "bridge_start_east = np.array([-3734.89, 1668.64])\n",
    "\n",
    "bridge_end_west = np.array([-3735.31, 1580.07])\n",
    "bridge_end_east = np.array([-3741.63, 1580.53])\n",
    "\n",
    "end_avg = np.sum([bridge_end_west, bridge_end_east], axis=0) / 2\n",
    "\n",
    "bridge_b = np.abs(bridge_end_east[1] - bridge_start_east[1])\n",
    "bridge_a = np.abs(bridge_end_east[0] - bridge_start_east[0])\n",
    "bridge_angle = np.arctan(bridge_a / bridge_b)\n",
    "\n",
    "start_angle = bridge_angle\n",
    "\n",
    "init_pos = np.sum([bridge_start_west, bridge_start_east], axis=0) / 2\n",
    "\n",
    "k = (bridge_end_west[1] - bridge_end_east[1]) / (bridge_end_west[0] - bridge_end_east[0])\n",
    "m = bridge_end_west[1] -(k * bridge_end_west[0])\n",
    "\n",
    "dist_eps = 0.5\n",
    "step_size = np.abs((bridge_start_west[0] - bridge_start_east[0]) / 2)\n",
    "\n",
    "current_angle = 0\n",
    "\n",
    "polygon = Polygon([bridge_start_west, bridge_start_east, bridge_end_east, bridge_end_west])"
   ]
  },
  {
   "cell_type": "code",
   "execution_count": 3,
   "metadata": {},
   "outputs": [],
   "source": [
    "def is_goal(x, y):\n",
    "      \n",
    "    goal_y = (k*x) + m\n",
    "    \n",
    "    return y < goal_y    "
   ]
  },
  {
   "cell_type": "code",
   "execution_count": 4,
   "metadata": {},
   "outputs": [],
   "source": [
    "def is_within_bridge(x, y):\n",
    "    \n",
    "    point = Point(x, y)\n",
    "    \n",
    "    return polygon.contains(point) "
   ]
  },
  {
   "cell_type": "code",
   "execution_count": 5,
   "metadata": {},
   "outputs": [],
   "source": [
    "def get_start_edge():\n",
    "    \n",
    "    k_s = (bridge_start_west[1] - bridge_start_east[1]) / (bridge_start_west[0] - bridge_start_east[0])\n",
    "    m_s = bridge_start_west[1] -(k_s * bridge_start_west[0])\n",
    "    \n",
    "    return k_s, m_s\n",
    "    \n",
    "k_s, m_s = get_start_edge()"
   ]
  },
  {
   "cell_type": "code",
   "execution_count": 6,
   "metadata": {},
   "outputs": [],
   "source": [
    "def get_start_edge_dist(x, y):\n",
    "    \n",
    "    k_p = -1 / k_s\n",
    "    m_p = y - (k_p * x);\n",
    "\n",
    "    x_new = (m_p - m_s) / (k_s - k_p);\n",
    "    y_new = (k_s*x_new) + m_s;\n",
    "\n",
    "    a = (x_new - x);\n",
    "    b = (y_new - y);\n",
    "\n",
    "    d = np.sqrt(a**2 + b**2);\n",
    "    \n",
    "    return d"
   ]
  },
  {
   "cell_type": "code",
   "execution_count": 7,
   "metadata": {},
   "outputs": [
    {
     "name": "stdout",
     "output_type": "stream",
     "text": [
      "k: -0.07278481012658615, m: 1308.1961708860615, k_r: 12.638450502152464, m_r: 48788.60054519512, start_x: -3731.615, start_y: 1668.4\n"
     ]
    }
   ],
   "source": [
    "def get_right_edge():\n",
    "    \n",
    "    k_r = (bridge_start_west[1] - bridge_end_west[1]) / (bridge_start_west[0] - bridge_end_west[0])\n",
    "    m_r = bridge_end_west[1] -(k_r * bridge_end_west[0])\n",
    "    \n",
    "    return k_r, m_r\n",
    "    \n",
    "k_r, m_r = get_right_edge()\n",
    "\n",
    "print(\"k: {}, m: {}, k_r: {}, m_r: {}, start_x: {}, start_y: {}\".format(k, m, k_r, m_r, init_pos[0], init_pos[1]))"
   ]
  },
  {
   "cell_type": "code",
   "execution_count": 8,
   "metadata": {},
   "outputs": [],
   "source": [
    "def get_edge_dist(x, y):\n",
    "    \n",
    "    k_p = -1 / k_r\n",
    "    m_p = y - (k_p * x);\n",
    "\n",
    "    x_new = (m_p - m_r) / (k_r - k_p);\n",
    "    y_new = (k_r*x_new) + m_r;\n",
    "\n",
    "    a = (x_new - x);\n",
    "    b = (y_new - y);\n",
    "\n",
    "    d = np.sqrt(a**2 + b**2);\n",
    "    \n",
    "    return d"
   ]
  },
  {
   "cell_type": "code",
   "execution_count": 9,
   "metadata": {},
   "outputs": [],
   "source": [
    "def get_new_angle(action):  \n",
    "    \n",
    "    v = np.pi / 8\n",
    "    \n",
    "    return{\n",
    "        0 : current_angle + v,\n",
    "        1 : current_angle + v*2,\n",
    "        2 : current_angle - v,\n",
    "        3 : current_angle - v*2,\n",
    "    }[action]"
   ]
  },
  {
   "cell_type": "code",
   "execution_count": 10,
   "metadata": {},
   "outputs": [],
   "source": [
    "def do_action(action, x, y):\n",
    "        \n",
    "    v = get_new_angle(action)\n",
    "    current_angle = v\n",
    "    \n",
    "    a = step_size * np.cos(v);\n",
    "    b = step_size * np.sin(v);\n",
    "\n",
    "    x_new = x - b;\n",
    "    y_new = y - a;\n",
    "    \n",
    "    return x_new, y_new"
   ]
  },
  {
   "cell_type": "code",
   "execution_count": 11,
   "metadata": {},
   "outputs": [],
   "source": [
    "terminate_reward = 100\n",
    "step_reward = -0.01\n",
    "stuck_reward = -100\n",
    "\n",
    "state_size = 2\n",
    "action_size = 4"
   ]
  },
  {
   "cell_type": "code",
   "execution_count": 12,
   "metadata": {},
   "outputs": [],
   "source": [
    "def step(action, p_x, p_y):\n",
    "    \n",
    "    tmp_player_x = p_x\n",
    "    tmp_player_y = p_y\n",
    "    \n",
    "    new_pos = do_action(action, p_x, p_y)\n",
    "    \n",
    "    p_x = new_pos[0]\n",
    "    p_y = new_pos[1]\n",
    "    \n",
    "    reward = 0\n",
    "    done = False\n",
    "    \n",
    "    if is_goal(p_x, p_y):\n",
    "        done = True\n",
    "        reward = terminate_reward\n",
    "    \n",
    "    elif is_within_bridge(p_x, p_y):\n",
    "        reward = step_reward\n",
    "            \n",
    "    else:\n",
    "        p_x = tmp_player_x\n",
    "        p_y = tmp_player_y\n",
    "        reward = stuck_reward;\n",
    "        done = True\n",
    "            \n",
    "    state = np.reshape([current_angle, get_edge_dist(p_x, p_y)], [1, state_size])\n",
    "        \n",
    "    return state, reward, done, p_x, p_y\n",
    "    "
   ]
  },
  {
   "cell_type": "code",
   "execution_count": 13,
   "metadata": {},
   "outputs": [],
   "source": [
    "def reset():\n",
    "    \n",
    "    p_x = init_pos[0]\n",
    "    p_y = init_pos[1]\n",
    "    \n",
    "    current_angle = 0\n",
    "    \n",
    "    state = np.reshape([current_angle, get_edge_dist(p_x, p_y)], [1, state_size])\n",
    "    \n",
    "    return state, p_x, p_y\n",
    "    "
   ]
  },
  {
   "cell_type": "code",
   "execution_count": 14,
   "metadata": {},
   "outputs": [],
   "source": [
    "model_path = \"my_model.h5\""
   ]
  },
  {
   "cell_type": "code",
   "execution_count": 15,
   "metadata": {},
   "outputs": [],
   "source": [
    "class Agent:\n",
    "    def __init__(self, state_size, action_size, discount, eps, eps_decay, eps_min, l_rate, decay_linear):\n",
    "        self.path = model_path\n",
    "        self.state_size = state_size       \n",
    "        self.action_size = action_size\n",
    "        self.mem = deque(maxlen=2000)\n",
    "        self.discount = discount\n",
    "        self.eps = eps\n",
    "        self.eps_decay = eps_decay\n",
    "        self.decay_linear = decay_linear\n",
    "        self.eps_min = eps_min\n",
    "        self.l_rate = l_rate\n",
    "        self.model = self.init_model()\n",
    "\n",
    "    def load_model(self):\n",
    "        return load_model(self.path)\n",
    "        \n",
    "    def save_model(self):\n",
    "        self.model.save(self.path)\n",
    "\n",
    "    def init_model(self):\n",
    "        model = Sequential()\n",
    "        model.add(Dense(40, input_dim=self.state_size, activation='relu'))\n",
    "        model.add(Dense(40, activation='relu'))\n",
    "        model.add(Dense(self.action_size, activation='linear'))\n",
    "        model.compile(loss='mse', optimizer=Adam(lr=self.l_rate))\n",
    "\n",
    "        return model\n",
    "\n",
    "    def action(self, state):\n",
    "\n",
    "        if np.random.rand() <= self.eps:\n",
    "            return random.randrange(self.action_size)   \n",
    "        \n",
    "        actions = self.model.predict(state)\n",
    "        \n",
    "        return np.argmax(actions[0])\n",
    "    \n",
    "    def remember(self, state, action, reward, next_state, terminal):\n",
    "        self.mem.append((state, action, reward, next_state, terminal))\n",
    "\n",
    "    def replay(self, batch_size):\n",
    "        \n",
    "        if len(self.mem) < batch_size:\n",
    "            batch = self.mem\n",
    "        else:\n",
    "            batch = random.sample(self.mem, batch_size)\n",
    "        \n",
    "        for state, action, reward, next_state, terminal in batch:\n",
    "            target = reward\n",
    "\n",
    "            if not terminal:\n",
    "                target += self.discount * np.amax(self.model.predict(next_state)[0])\n",
    "            \n",
    "            target_f = self.model.predict(state)\n",
    "            target_f[0][action] = target\n",
    "        \n",
    "            self.model.fit(state, target_f, epochs=1, verbose=0)\n",
    "        \n",
    "        self.decay()\n",
    "\n",
    "\n",
    "    def decay(self):\n",
    "        if self.eps > self.eps_min:\n",
    "            if self.decay_linear:\n",
    "                self.eps -= self.eps_decay\n",
    "            else:\n",
    "                self.eps *= self.eps_decay\n",
    "            "
   ]
  },
  {
   "cell_type": "code",
   "execution_count": 256,
   "metadata": {},
   "outputs": [
    {
     "name": "stdout",
     "output_type": "stream",
     "text": [
      "episode 1 done, found goal 0 times with and avg step of -1, total goals: 0\n",
      "episode 100 done, found goal 0 times with and avg step of -1, total goals: 0\n",
      "episode 200 done, found goal 0 times with and avg step of -1, total goals: 0\n",
      "episode 300 done, found goal 1 times with and avg step of 32.0, total goals: 1\n",
      "episode 400 done, found goal 2 times with and avg step of 31.0, total goals: 3\n",
      "episode 500 done, found goal 5 times with and avg step of 31.4, total goals: 8\n",
      "episode 600 done, found goal 13 times with and avg step of 31.384615384615383, total goals: 21\n",
      "episode 700 done, found goal 21 times with and avg step of 31.238095238095237, total goals: 42\n",
      "episode 800 done, found goal 42 times with and avg step of 30.904761904761905, total goals: 84\n",
      "episode 900 done, found goal 54 times with and avg step of 30.925925925925927, total goals: 138\n",
      "episode 1000 done, found goal 83 times with and avg step of 30.63855421686747, total goals: 221\n",
      "episode 1100 done, found goal 100 times with and avg step of 30.33, total goals: 321\n",
      "episode 1200 done, found goal 100 times with and avg step of 30.89, total goals: 421\n",
      "episode 1300 done, found goal 99 times with and avg step of 31.1010101010101, total goals: 520\n",
      "episode 1400 done, found goal 100 times with and avg step of 30.58, total goals: 620\n",
      "episode 1500 done, found goal 99 times with and avg step of 30.252525252525253, total goals: 719\n",
      "episode 1600 done, found goal 100 times with and avg step of 30.91, total goals: 819\n",
      "episode 1700 done, found goal 100 times with and avg step of 30.49, total goals: 919\n",
      "episode 1800 done, found goal 100 times with and avg step of 30.38, total goals: 1019\n",
      "episode 1900 done, found goal 100 times with and avg step of 30.54, total goals: 1119\n",
      "episode 2000 done, found goal 100 times with and avg step of 30.54, total goals: 1219\n",
      "summary: total goals found: 1219, an avg of 0.6095 episodes reached the goal\n"
     ]
    }
   ],
   "source": [
    "agent = Agent(\n",
    "            state_size = state_size, \n",
    "            action_size = action_size, \n",
    "            discount = 0.98, \n",
    "            eps = 1, \n",
    "            eps_decay = 0.001, \n",
    "            eps_min = 0.001, \n",
    "            l_rate = 0.001,\n",
    "            decay_linear = True\n",
    "            )\n",
    "\n",
    "#Train agent\n",
    "episodes = 2000\n",
    "steps = 100\n",
    "\n",
    "print_freq = 100\n",
    "goalCounter = 0\n",
    "goalAvg = -1\n",
    "stepCounter = 0\n",
    "epGoalCounter = 0\n",
    "epGoalAvg = -1\n",
    "epStepCounter = 0\n",
    "\n",
    "total_ep = []\n",
    "total_rewards = []\n",
    "total_distance = []\n",
    "\n",
    "for ep in range(1, episodes + 1):\n",
    "    \n",
    "    state, p_x, p_y = reset()\n",
    "\n",
    "    player_x = p_x\n",
    "    player_y = p_y\n",
    "    \n",
    "    total_reward = 0\n",
    "    \n",
    "    for st in range(1, steps):\n",
    "        \n",
    "        action = agent.action(state)\n",
    "\n",
    "        next_state, reward, done, p_x, p_y = step(action, player_x, player_y)\n",
    "        \n",
    "        total_reward += reward\n",
    "        \n",
    "        player_x = p_x\n",
    "        player_y = p_y\n",
    "        \n",
    "        agent.remember(state, action, reward, next_state, done)\n",
    "\n",
    "        state = next_state\n",
    "\n",
    "        if done:\n",
    "            \n",
    "            if reward > 1:\n",
    "                goalCounter += 1\n",
    "                epGoalCounter += 1            \n",
    "                epStepCounter += st\n",
    "                epGoalAvg = epStepCounter / epGoalCounter\n",
    "            break\n",
    "       \n",
    "    agent.replay(32)\n",
    "        \n",
    "    if ep % print_freq == 0 or ep == 1:\n",
    "        \n",
    "        total_ep.append(ep)\n",
    "        total_rewards.append(total_reward)\n",
    "        total_distance.append(get_start_edge_dist(player_x, player_y))\n",
    "        \n",
    "        print(\"episode {} done, found goal {} times with and avg step of {}, total goals: {}\".format(ep, epGoalCounter, epGoalAvg, goalCounter))\n",
    "        epGoalCounter = 0\n",
    "        epGoalAvg = -1\n",
    "        epStepCounter = 0\n",
    "\n",
    "agent.save_model()\n",
    "print(\"summary: total goals found: {}, an avg of {} episodes reached the goal\".format(goalCounter, goalCounter/episodes))"
   ]
  },
  {
   "cell_type": "code",
   "execution_count": 257,
   "metadata": {},
   "outputs": [
    {
     "data": {
      "image/png": "[encoded data removed]",
      "text/plain": [
       "<Figure size 432x288 with 1 Axes>"
      ]
     },
     "metadata": {},
     "output_type": "display_data"
    }
   ],
   "source": [
    "plt.plot(total_ep, total_rewards)\n",
    "plt.title('Total reward from start')\n",
    "plt.ylabel('Reward')\n",
    "plt.xlabel('Episode')\n",
    "plt.legend(['Train', 'Validation'], loc='upper left')\n",
    "plt.show()"
   ]
  },
  {
   "cell_type": "code",
   "execution_count": 258,
   "metadata": {},
   "outputs": [
    {
     "data": {
      "image/png": "[encoded data removed]",
      "text/plain": [
       "<Figure size 432x288 with 1 Axes>"
      ]
     },
     "metadata": {},
     "output_type": "display_data"
    }
   ],
   "source": [
    "plt.plot(total_ep, total_distance)\n",
    "plt.title('Distance from start over time')\n",
    "plt.ylabel('Distance')\n",
    "plt.xlabel('Episode')\n",
    "plt.legend(['Train', 'Validation'], loc='upper left')\n",
    "plt.show()"
   ]
  },
  {
   "cell_type": "code",
   "execution_count": 16,
   "metadata": {},
   "outputs": [],
   "source": [
    "lib = cdll.LoadLibrary('libb.so')\n",
    "\n",
    "class Env(object):\n",
    "    def __init__(self):\n",
    "        self.obj = lib.TestNet()\n",
    "    \n",
    "    def reset(self, init_x, init_y):\n",
    "        lib.ResetTest.argtypes = [c_float, c_float]\n",
    "        lib.ResetTest(self.obj, init_x, init_y)\n",
    "\n",
    "    def step(self, new_x, new_y):\n",
    "        lib.StepTest.argtypes = [c_float, c_float]\n",
    "        lib.StepTest(self.obj, new_x, new_y)"
   ]
  },
  {
   "cell_type": "code",
   "execution_count": 17,
   "metadata": {},
   "outputs": [
    {
     "name": "stdout",
     "output_type": "stream",
     "text": [
      "completed with reward: 99.7\n"
     ]
    }
   ],
   "source": [
    "def predict_distance() :\n",
    "    \n",
    "    env = Env()\n",
    "\n",
    "    model = load_model(model_path)\n",
    "    \n",
    "    state, p_x, p_y = reset()\n",
    "    env.reset(c_float(p_x), c_float(p_y))\n",
    "    \n",
    "    pl_x = p_x\n",
    "    pl_y = p_y\n",
    "    \n",
    "    total_reward = 0\n",
    "    \n",
    "    while True:\n",
    "    \n",
    "        action = np.argmax(model.predict(state)[0])\n",
    "        next_state, reward, done, p_x, p_y = step(action, pl_x, pl_y)\n",
    "                \n",
    "        env.step(c_float(p_x), c_float(p_y))\n",
    "        \n",
    "        state = next_state\n",
    "        \n",
    "        pl_x = p_x\n",
    "        pl_y = p_y\n",
    "        \n",
    "        total_reward += reward\n",
    "        \n",
    "        if done:\n",
    "            print(\"completed with reward: {}\".format(total_reward))\n",
    "            break;\n",
    "            \n",
    "predict_distance()"
   ]
  }
 ],
 "metadata": {
  "kernelspec": {
   "display_name": "Python 3",
   "language": "python",
   "name": "python3"
  },
  "language_info": {
   "codemirror_mode": {
    "name": "ipython",
    "version": 3
   },
   "file_extension": ".py",
   "mimetype": "text/x-python",
   "name": "python",
   "nbconvert_exporter": "python",
   "pygments_lexer": "ipython3",
   "version": "3.5.6"
  }
 },
 "nbformat": 4,
 "nbformat_minor": 2
}
